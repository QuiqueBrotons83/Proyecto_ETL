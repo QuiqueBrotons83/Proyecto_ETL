{
 "cells": [
  {
   "cell_type": "code",
   "execution_count": 34,
   "metadata": {},
   "outputs": [],
   "source": [
    "# Importamos las librerías necesarias\n",
    "import pandas as pd\n",
    "import numpy as np\n",
    "import psycopg2 as ps"
   ]
  },
  {
   "cell_type": "code",
   "execution_count": 35,
   "metadata": {},
   "outputs": [
    {
     "name": "stdout",
     "output_type": "stream",
     "text": [
      "<class 'pandas.core.frame.DataFrame'>\n",
      "RangeIndex: 15000 entries, 0 to 14999\n",
      "Data columns (total 14 columns):\n",
      " #   Column           Non-Null Count  Dtype         \n",
      "---  ------           --------------  -----         \n",
      " 0   id_reserva       15000 non-null  object        \n",
      " 1   id_cliente       15000 non-null  object        \n",
      " 2   nombre           15000 non-null  object        \n",
      " 3   apellido         15000 non-null  object        \n",
      " 4   mail             15000 non-null  object        \n",
      " 5   competencia      15000 non-null  bool          \n",
      " 6   fecha_reserva    15000 non-null  datetime64[ns]\n",
      " 7   inicio_estancia  15000 non-null  datetime64[ns]\n",
      " 8   final_estancia   15000 non-null  datetime64[ns]\n",
      " 9   nombre_hotel     15000 non-null  object        \n",
      " 10  ciudad           15000 non-null  object        \n",
      " 11  id_hotel         15000 non-null  object        \n",
      " 12  estrellas        15000 non-null  float64       \n",
      " 13  precio_medio     15000 non-null  float64       \n",
      "dtypes: bool(1), datetime64[ns](3), float64(2), object(8)\n",
      "memory usage: 1.5+ MB\n"
     ]
    }
   ],
   "source": [
    "# Importamos el csv con la información de las reservas, los hoteles y los clientes\n",
    "import pandas as pd\n",
    "data = pd.read_csv(\"../data/hoteles_unidos.csv\", parse_dates=['fecha_reserva', 'inicio_estancia', 'final_estancia'], dtype={'id_cliente': str, 'id_hotel': str})\n",
    "data.info()"
   ]
  },
  {
   "cell_type": "code",
   "execution_count": 36,
   "metadata": {},
   "outputs": [
    {
     "data": {
      "text/html": [
       "<div>\n",
       "<style scoped>\n",
       "    .dataframe tbody tr th:only-of-type {\n",
       "        vertical-align: middle;\n",
       "    }\n",
       "\n",
       "    .dataframe tbody tr th {\n",
       "        vertical-align: top;\n",
       "    }\n",
       "\n",
       "    .dataframe thead th {\n",
       "        text-align: right;\n",
       "    }\n",
       "</style>\n",
       "<table border=\"1\" class=\"dataframe\">\n",
       "  <thead>\n",
       "    <tr style=\"text-align: right;\">\n",
       "      <th></th>\n",
       "      <th>id_hotel</th>\n",
       "      <th>nombre_hotel</th>\n",
       "    </tr>\n",
       "  </thead>\n",
       "  <tbody>\n",
       "    <tr>\n",
       "      <th>0</th>\n",
       "      <td>1</td>\n",
       "      <td>Hotel Monte Verde</td>\n",
       "    </tr>\n",
       "    <tr>\n",
       "      <th>1</th>\n",
       "      <td>2</td>\n",
       "      <td>Hotel Brisas del Mar</td>\n",
       "    </tr>\n",
       "    <tr>\n",
       "      <th>2</th>\n",
       "      <td>3</td>\n",
       "      <td>Hotel Camino del Sol</td>\n",
       "    </tr>\n",
       "    <tr>\n",
       "      <th>3</th>\n",
       "      <td>4</td>\n",
       "      <td>Hotel Puerta del Cielo</td>\n",
       "    </tr>\n",
       "    <tr>\n",
       "      <th>4</th>\n",
       "      <td>5</td>\n",
       "      <td>Hotel Encanto Real</td>\n",
       "    </tr>\n",
       "    <tr>\n",
       "      <th>...</th>\n",
       "      <td>...</td>\n",
       "      <td>...</td>\n",
       "    </tr>\n",
       "    <tr>\n",
       "      <th>14995</th>\n",
       "      <td>135</td>\n",
       "      <td>ibis Madrid Alcala de Henares La Garena</td>\n",
       "    </tr>\n",
       "    <tr>\n",
       "      <th>14996</th>\n",
       "      <td>128</td>\n",
       "      <td>ibis Madrid Alcobendas</td>\n",
       "    </tr>\n",
       "    <tr>\n",
       "      <th>14997</th>\n",
       "      <td>186</td>\n",
       "      <td>ibis budget Madrid Alcorcon Móstoles</td>\n",
       "    </tr>\n",
       "    <tr>\n",
       "      <th>14998</th>\n",
       "      <td>114</td>\n",
       "      <td>ibis Madrid Aeropuerto Barajas</td>\n",
       "    </tr>\n",
       "    <tr>\n",
       "      <th>14999</th>\n",
       "      <td>194</td>\n",
       "      <td>ibis Madrid Centro las Ventas</td>\n",
       "    </tr>\n",
       "  </tbody>\n",
       "</table>\n",
       "<p>15000 rows × 2 columns</p>\n",
       "</div>"
      ],
      "text/plain": [
       "      id_hotel                             nombre_hotel\n",
       "0            1                        Hotel Monte Verde\n",
       "1            2                     Hotel Brisas del Mar\n",
       "2            3                     Hotel Camino del Sol\n",
       "3            4                   Hotel Puerta del Cielo\n",
       "4            5                       Hotel Encanto Real\n",
       "...        ...                                      ...\n",
       "14995      135  ibis Madrid Alcala de Henares La Garena\n",
       "14996      128                   ibis Madrid Alcobendas\n",
       "14997      186     ibis budget Madrid Alcorcon Móstoles\n",
       "14998      114           ibis Madrid Aeropuerto Barajas\n",
       "14999      194            ibis Madrid Centro las Ventas\n",
       "\n",
       "[15000 rows x 2 columns]"
      ]
     },
     "execution_count": 36,
     "metadata": {},
     "output_type": "execute_result"
    }
   ],
   "source": [
    "data[[\"id_hotel\", \"nombre_hotel\"]]"
   ]
  },
  {
   "cell_type": "code",
   "execution_count": 38,
   "metadata": {},
   "outputs": [
    {
     "data": {
      "text/plain": [
       "0        276.612381\n",
       "1        275.225921\n",
       "2        269.998444\n",
       "3        280.151243\n",
       "4        278.243996\n",
       "            ...    \n",
       "14995     83.000000\n",
       "14996     85.000000\n",
       "14997     77.000000\n",
       "14998    116.000000\n",
       "14999    172.000000\n",
       "Name: precio_medio, Length: 15000, dtype: float64"
      ]
     },
     "execution_count": 38,
     "metadata": {},
     "output_type": "execute_result"
    }
   ],
   "source": [
    "data[\"precio_medio\"]"
   ]
  },
  {
   "cell_type": "code",
   "execution_count": 39,
   "metadata": {},
   "outputs": [
    {
     "name": "stdout",
     "output_type": "stream",
     "text": [
      "<class 'pandas.core.frame.DataFrame'>\n",
      "RangeIndex: 1259 entries, 0 to 1258\n",
      "Data columns (total 10 columns):\n",
      " #   Column             Non-Null Count  Dtype         \n",
      "---  ------             --------------  -----         \n",
      " 0   nombre_evento      1259 non-null   object        \n",
      " 1   url_evento         1259 non-null   object        \n",
      " 2   codigo_postal      1131 non-null   float64       \n",
      " 3   direccion          1131 non-null   object        \n",
      " 4   horario            1027 non-null   object        \n",
      " 5   organizacion       1149 non-null   object        \n",
      " 6   fecha_inicio       1259 non-null   datetime64[ns]\n",
      " 7   fecha_fin          1259 non-null   datetime64[ns]\n",
      " 8   hora_fecha_inicio  1259 non-null   object        \n",
      " 9   hora_fecha_fin     1259 non-null   object        \n",
      "dtypes: datetime64[ns](2), float64(1), object(7)\n",
      "memory usage: 98.5+ KB\n"
     ]
    }
   ],
   "source": [
    "# Importamos el csv con los eventos de Madrid sacados de la API\n",
    "eventos = pd.read_csv(\"../data/datos_eventos.csv\", parse_dates=['fecha_inicio', 'fecha_fin'])\n",
    "eventos.info()"
   ]
  },
  {
   "cell_type": "code",
   "execution_count": 40,
   "metadata": {},
   "outputs": [],
   "source": [
    "# Nos conectamos a la bddd de postgres\n",
    "conn = ps.connect(\n",
    "    dbname=\"Proyecto_ETL\",\n",
    "    user=\"postgres\",\n",
    "    password=\"quique\",\n",
    "    host = \"localhost\",\n",
    "    port = \"5432\")"
   ]
  },
  {
   "cell_type": "code",
   "execution_count": 41,
   "metadata": {},
   "outputs": [],
   "source": [
    "# Creamos un cursor con el objeto conexion\n",
    "cur = conn.cursor()"
   ]
  },
  {
   "cell_type": "code",
   "execution_count": 42,
   "metadata": {},
   "outputs": [
    {
     "data": {
      "text/plain": [
       "('PostgreSQL 16.3, compiled by Visual C++ build 1939, 64-bit',)"
      ]
     },
     "execution_count": 42,
     "metadata": {},
     "output_type": "execute_result"
    }
   ],
   "source": [
    "# Ejecutamos para saber si estamos conectados\n",
    "cur.execute(\"SELECT version();\")\n",
    "cur.fetchone()"
   ]
  },
  {
   "cell_type": "code",
   "execution_count": 43,
   "metadata": {},
   "outputs": [
    {
     "data": {
      "text/plain": [
       "np.int64(0)"
      ]
     },
     "execution_count": 43,
     "metadata": {},
     "output_type": "execute_result"
    }
   ],
   "source": [
    "# comprobamos que no hay valores duplicados\n",
    "data.duplicated().sum()\n",
    "\n"
   ]
  },
  {
   "cell_type": "code",
   "execution_count": null,
   "metadata": {},
   "outputs": [],
   "source": [
    "data_insert_ciudad = [\"Madrid\"]"
   ]
  },
  {
   "cell_type": "code",
   "execution_count": null,
   "metadata": {},
   "outputs": [],
   "source": [
    "insert_query = \"\"\"\n",
    "INSERT INTO ciudad (nombre_ciudad) VALUES (%s)\n",
    "\"\"\""
   ]
  },
  {
   "cell_type": "code",
   "execution_count": null,
   "metadata": {},
   "outputs": [],
   "source": [
    "conn.rollback()"
   ]
  },
  {
   "cell_type": "code",
   "execution_count": null,
   "metadata": {},
   "outputs": [],
   "source": [
    "cur.execute(insert_query, data_insert_ciudad)\n",
    "conn.commit()"
   ]
  },
  {
   "cell_type": "code",
   "execution_count": null,
   "metadata": {},
   "outputs": [
    {
     "data": {
      "text/plain": [
       "[(1, 'Madrid')]"
      ]
     },
     "execution_count": 14,
     "metadata": {},
     "output_type": "execute_result"
    }
   ],
   "source": [
    "# vamos a comprobar que se ha creado correctamente\n",
    "query_ciudad = \"\"\"\n",
    "    SELECT * \n",
    "    FROM ciudad; \n",
    "\"\"\"\n",
    "cur.execute(query_ciudad)\n",
    "cur.fetchall()"
   ]
  },
  {
   "cell_type": "code",
   "execution_count": null,
   "metadata": {},
   "outputs": [
    {
     "data": {
      "text/plain": [
       "{'Madrid': 1}"
      ]
     },
     "execution_count": 15,
     "metadata": {},
     "output_type": "execute_result"
    }
   ],
   "source": [
    "# Creamos la tabla eventos\n",
    "\n",
    "conn.rollback()  # Rollback any previous failed transaction\n",
    "cur.execute(\"SELECT nombre_ciudad, id_ciudad FROM ciudad\")\n",
    "ciudades = dict(cur.fetchall())\n",
    "ciudades"
   ]
  },
  {
   "cell_type": "code",
   "execution_count": null,
   "metadata": {},
   "outputs": [
    {
     "data": {
      "text/plain": [
       "{'Madrid': 1}"
      ]
     },
     "execution_count": 16,
     "metadata": {},
     "output_type": "execute_result"
    }
   ],
   "source": [
    "cur.execute(\"SELECT nombre_ciudad, id_ciudad FROM ciudad\")\n",
    "ciudades = dict(cur.fetchall())\n",
    "ciudades"
   ]
  },
  {
   "cell_type": "code",
   "execution_count": null,
   "metadata": {},
   "outputs": [],
   "source": [
    "data_to_insert_eventos = []\n",
    "\n",
    "for i , row in eventos.iterrows():\n",
    "    nombre_evento = row[\"nombre_evento\"]\n",
    "    url_evento = row[\"url_evento\"]\n",
    "    codigo_postal = row[\"codigo_postal\"]\n",
    "    direccion = row[\"direccion\"] if pd.notna(row[\"direccion\"]) else None\n",
    "    horario = row[\"horario\"] if pd.notna(row[\"horario\"]) else None\n",
    "    fecha_inicio = row[\"fecha_inicio\"]\n",
    "    fecha_fin = row[\"fecha_fin\"]\n",
    "    organizacion = row[\"organizacion\"] if pd.notna(row[\"organizacion\"]) else None\n",
    "    id_ciudad = ciudades.get(\"Madrid\")\n",
    "    \n",
    "data_to_insert_eventos.append((nombre_evento, url_evento, codigo_postal, direccion, horario, fecha_inicio, fecha_fin, organizacion, id_ciudad))\n",
    "       \n",
    "            "
   ]
  },
  {
   "cell_type": "code",
   "execution_count": null,
   "metadata": {},
   "outputs": [],
   "source": [
    "len(data_to_insert_eventos)"
   ]
  },
  {
   "cell_type": "code",
   "execution_count": null,
   "metadata": {},
   "outputs": [],
   "source": [
    "insert_query = \"\"\"\n",
    "INSERT INTO eventos (nombre_evento, url_evento, codigo_postal, direccion, horario, fecha_inicio, fecha_fin, organizacion, id_ciudad) VALUES (%s, %s, %s, %s, %s, %s, %s, %s, %s)\n",
    "\"\"\"\n",
    "\n"
   ]
  },
  {
   "cell_type": "code",
   "execution_count": null,
   "metadata": {},
   "outputs": [
    {
     "data": {
      "text/plain": [
       "[(1,\n",
       "  \"Ça Marche 'Trabajos forzados'\",\n",
       "  'http://www.madrid.es/sites/v/index.jsp?vgnextchannel=ca9671ee4a9eb410VgnVCM100000171f5a0aRCRD&vgnextoid=5c4302a2fa0e1910VgnVCM1000001d4a900aRCRD',\n",
       "  28015,\n",
       "  'CALLE CONDE DUQUE 9',\n",
       "  '20:00',\n",
       "  datetime.date(2025, 5, 7),\n",
       "  datetime.date(2025, 5, 7),\n",
       "  'Centro de Cultura Contemporánea Conde Duque',\n",
       "  1)]"
      ]
     },
     "execution_count": 21,
     "metadata": {},
     "output_type": "execute_result"
    }
   ],
   "source": [
    "# Ejecutamos la query\n",
    "cur.executemany(insert_query, data_to_insert_eventos)\n",
    "conn.commit()"
   ]
  },
  {
   "cell_type": "code",
   "execution_count": null,
   "metadata": {},
   "outputs": [],
   "source": [
    "# Comprobamos que se ha insertado correctamente\n",
    "query_eventos = \"\"\"\n",
    "    SELECT * \n",
    "    FROM eventos; \n",
    "\"\"\"\n",
    "cur.execute(query_eventos)\n",
    "cur.fetchmany(4)"
   ]
  },
  {
   "cell_type": "code",
   "execution_count": null,
   "metadata": {},
   "outputs": [
    {
     "data": {
      "text/plain": [
       "[('1', 'Hotel Monte Verde', False, 3.1036363636363635, 1),\n",
       " ('2', 'Hotel Brisas del Mar', False, 3.088014981273408, 1),\n",
       " ('3', 'Hotel Camino del Sol', False, 3.0675675675675675, 1),\n",
       " ('4', 'Hotel Puerta del Cielo', False, 3.02851711026616, 1),\n",
       " ('5', 'Hotel Encanto Real', False, 3.031311154598826, 1),\n",
       " ('6', 'Palacio del Sol', False, 2.992156862745098, 1),\n",
       " ('7', 'Hotel Jardines del Rey', False, 2.9362549800796813, 1),\n",
       " ('8', 'Hotel Las Estrellas', False, 2.906614785992218, 1),\n",
       " ('9', 'Gran Hotel Madrid', False, 3.0675675675675675, 1),\n",
       " ('10', 'Hotel Torre Dorada', False, 2.919921875, 1),\n",
       " ('11', 'Hotel Palacio Imperial', False, 3.0064794816414686, 1),\n",
       " ('12', 'Hotel Luz de Madrid', False, 3.0522388059701493, 1),\n",
       " ('13', 'Hotel Los Almendros', False, 3.0112570356472794, 1),\n",
       " ('14', 'Hotel Sol y Luna', False, 3.0089766606822264, 1),\n",
       " ('15', 'Hotel Mirador Real', False, 2.9774859287054407, 1),\n",
       " ('16', 'Hotel Rincón Sereno', False, 2.998046875, 1),\n",
       " ('17', 'Hotel Vista Alegre', False, 2.941291585127201, 1),\n",
       " ('18', 'Hotel Costa Azul', False, 3.118446601941748, 1),\n",
       " ('19', 'Hotel Maravilla Real', False, 2.9788583509513744, 1),\n",
       " ('113', 'ibis Styles Madrid Prado', True, 4.7, 1),\n",
       " ('194', 'ibis Madrid Centro las Ventas', True, 4.5, 1),\n",
       " ('131', 'ibis budget Madrid Vallecas', True, 4.3, 1),\n",
       " ('114', 'ibis Madrid Aeropuerto Barajas', True, 4.4, 1),\n",
       " ('103', 'ibis Madrid Alcorcon Tresaguas', True, 4.4, 1),\n",
       " ('181', 'ibis budget Madrid Aeropuerto', True, 4.0, 1),\n",
       " ('128', 'ibis Madrid Alcobendas', True, 4.4, 1),\n",
       " ('186', 'ibis budget Madrid Alcorcon Móstoles', True, 4.5, 1),\n",
       " ('135', 'ibis Madrid Alcala de Henares La Garena', True, 4.5, 1),\n",
       " ('117', 'ibis budget Madrid Alcala de Henares La Dehesa', True, 4.3, 1)]"
      ]
     },
     "execution_count": 23,
     "metadata": {},
     "output_type": "execute_result"
    }
   ],
   "source": [
    "# Insertamos la tabla hoteles\n",
    "\n",
    "data_insert_hoteles = []\n",
    "\n",
    "for _, row in data.iterrows():\n",
    "    id_hotel = row[\"id_hotel\"]\n",
    "    nombre_hotel = row[\"nombre_hotel\"] \n",
    "    competencia = row[\"competencia\"] \n",
    "    valoracion = row[\"estrellas\"] \n",
    "    id_ciudad = ciudades.get(\"Madrid\") \n",
    "\n",
    "    hoteles = (id_hotel, nombre_hotel, competencia, valoracion, id_ciudad)\n",
    "\n",
    "    if hoteles not in data_insert_hoteles:\n",
    "        data_insert_hoteles.append(hoteles)"
   ]
  },
  {
   "cell_type": "code",
   "execution_count": null,
   "metadata": {},
   "outputs": [],
   "source": [
    "data_insert_hoteles"
   ]
  },
  {
   "cell_type": "code",
   "execution_count": null,
   "metadata": {},
   "outputs": [],
   "source": [
    "# Creamos la query de inserción de los datos de hotel\n",
    "insert_query_hoteles = \"\"\" \n",
    "                        INSERT INTO hoteles (id_hotel, nombre_hotel, competencia, valoracion, id_ciudad)\n",
    "                        VALUES (%s, %s, %s, %s, %s)\n",
    "\"\"\""
   ]
  },
  {
   "cell_type": "code",
   "execution_count": 44,
   "metadata": {},
   "outputs": [
    {
     "data": {
      "text/plain": [
       "Index(['id_reserva', 'id_cliente', 'nombre', 'apellido', 'mail', 'competencia',\n",
       "       'fecha_reserva', 'inicio_estancia', 'final_estancia', 'nombre_hotel',\n",
       "       'ciudad', 'id_hotel', 'estrellas', 'precio_medio'],\n",
       "      dtype='object')"
      ]
     },
     "execution_count": 44,
     "metadata": {},
     "output_type": "execute_result"
    }
   ],
   "source": [
    "# Creamos la tabla clientes\n",
    "\n",
    "# revisar tipo de datos\n",
    "data.columns"
   ]
  },
  {
   "cell_type": "code",
   "execution_count": 45,
   "metadata": {},
   "outputs": [],
   "source": [
    "data_insert_clientes = []\n",
    "\n",
    "for _, row in data.iterrows():\n",
    "\n",
    "    id_cliente = row[\"id_cliente\"]\n",
    "    nombre = row[\"nombre\"],\n",
    "    apellido = row[\"apellido\"],\n",
    "    mail = row[\"mail\"]\n",
    "\n",
    "    tabla_cliente = (id_cliente, nombre, apellido, mail)\n",
    "\n",
    "    if tabla_cliente not in data_insert_clientes:\n",
    "        data_insert_clientes.append(tabla_cliente)"
   ]
  },
  {
   "cell_type": "code",
   "execution_count": 46,
   "metadata": {},
   "outputs": [],
   "source": [
    "# Creamos la query de inserción de los datos de ciudad\n",
    "insert_query_clientes = \"\"\" \n",
    "                        INSERT INTO clientes (id_cliente, nombre, apellido, mail)\n",
    "                        VALUES (%s, %s, %s, %s)\n",
    "\"\"\""
   ]
  },
  {
   "cell_type": "code",
   "execution_count": 47,
   "metadata": {},
   "outputs": [
    {
     "ename": "UniqueViolation",
     "evalue": "llave duplicada viola restricción de unicidad «clientes_pkey»\nDETAIL:  Ya existe la llave (id_cliente)=(e13ac13a-2b7f-4fb6-a98f-5cd417859a23).\n",
     "output_type": "error",
     "traceback": [
      "\u001b[1;31m---------------------------------------------------------------------------\u001b[0m",
      "\u001b[1;31mUniqueViolation\u001b[0m                           Traceback (most recent call last)",
      "Cell \u001b[1;32mIn[47], line 2\u001b[0m\n\u001b[0;32m      1\u001b[0m \u001b[38;5;66;03m# Ejecutamos la query y le indicamos los valores \u001b[39;00m\n\u001b[1;32m----> 2\u001b[0m \u001b[43mcur\u001b[49m\u001b[38;5;241;43m.\u001b[39;49m\u001b[43mexecutemany\u001b[49m\u001b[43m(\u001b[49m\u001b[43minsert_query_clientes\u001b[49m\u001b[43m,\u001b[49m\u001b[43m \u001b[49m\u001b[43mdata_insert_clientes\u001b[49m\u001b[43m)\u001b[49m\n\u001b[0;32m      3\u001b[0m conn\u001b[38;5;241m.\u001b[39mcommit()\n",
      "\u001b[1;31mUniqueViolation\u001b[0m: llave duplicada viola restricción de unicidad «clientes_pkey»\nDETAIL:  Ya existe la llave (id_cliente)=(e13ac13a-2b7f-4fb6-a98f-5cd417859a23).\n"
     ]
    }
   ],
   "source": [
    "# Ejecutamos la query y le indicamos los valores \n",
    "cur.executemany(insert_query_clientes, data_insert_clientes)\n",
    "conn.commit()"
   ]
  },
  {
   "cell_type": "code",
   "execution_count": null,
   "metadata": {},
   "outputs": [
    {
     "data": {
      "text/plain": [
       "[(1, 'Hotel Monte Verde', False, 3.1036363636363635, 1),\n",
       " (2, 'Hotel Brisas del Mar', False, 3.088014981273408, 1),\n",
       " (3, 'Hotel Camino del Sol', False, 3.0675675675675675, 1)]"
      ]
     },
     "execution_count": 26,
     "metadata": {},
     "output_type": "execute_result"
    }
   ],
   "source": [
    "cur.close() \n",
    "conn.close()"
   ]
  }
 ],
 "metadata": {
  "kernelspec": {
   "display_name": "env",
   "language": "python",
   "name": "python3"
  },
  "language_info": {
   "codemirror_mode": {
    "name": "ipython",
    "version": 3
   },
   "file_extension": ".py",
   "mimetype": "text/x-python",
   "name": "python",
   "nbconvert_exporter": "python",
   "pygments_lexer": "ipython3",
   "version": "3.11.4"
  }
 },
 "nbformat": 4,
 "nbformat_minor": 2
}
