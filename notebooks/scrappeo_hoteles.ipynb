{
 "cells": [
  {
   "cell_type": "code",
   "execution_count": 1,
   "metadata": {},
   "outputs": [],
   "source": [
    "# Importamos la librerias necesarias de selenium\n",
    "import pandas as pd \n",
    "import numpy as np\n",
    "from bs4 import BeautifulSoup as bs \n",
    "import requests\n",
    "from selenium import webdriver # esto nos permite controlar navegadores web mediante código\n",
    "from webdriver_manager.chrome import ChromeDriverManager # administra la instalación de chromedriver, que es necesario para controlar google chrome\n",
    "from selenium.webdriver.chrome.service import Service # permite gestionar el servicio del driver de chrome\n",
    "import time"
   ]
  },
  {
   "cell_type": "code",
   "execution_count": 2,
   "metadata": {},
   "outputs": [],
   "source": [
    "# Inicializamos el driver de chrome\n",
    "chromeService = Service(ChromeDriverManager().install())\n",
    "driver = webdriver.Chrome(service=chromeService)\n"
   ]
  },
  {
   "cell_type": "code",
   "execution_count": 8,
   "metadata": {},
   "outputs": [
    {
     "data": {
      "text/plain": [
       "'https://all.accor.com/ssr/app/ibis/hotels/madrid-spain/open/index.es.shtml?compositions=1&stayplus=false&snu=false&hideWDR=false&accessibleRooms=false&hideHotelDetails=false&dateIn=2025-03-01&nights=1&destination=madrid-spain'"
      ]
     },
     "execution_count": 8,
     "metadata": {},
     "output_type": "execute_result"
    }
   ],
   "source": [
    "# Creamos la url de la página web que queremos scrapear\n",
    "url =\"https://all.accor.com/ssr/app/ibis/hotels/madrid-spain/open/index.es.shtml?compositions=1&stayplus=false&snu=false&hideWDR=false&accessibleRooms=false&hideHotelDetails=false&dateIn=2025-03-01&nights=1&destination=madrid-spain\"\n",
    "url"
   ]
  },
  {
   "cell_type": "code",
   "execution_count": 9,
   "metadata": {},
   "outputs": [],
   "source": [
    "def scrapeo_competencia(url):\n",
    "    \n",
    "    chromeService = Service(ChromeDriverManager().install())\n",
    "    driver = webdriver.Chrome(service=chromeService)\n",
    "\n",
    "    driver.get(url)\n",
    "\n",
    "    time.sleep(10)\n",
    "\n",
    "    nombre_hotel = driver.find_elements(\"css selector\", \"div.hotelblock__content\")\n",
    "    estrellas_hotel = driver.find_elements(\"css selector\", \"div.hotelblock__content-ratings\")\n",
    "    precios_hotel = driver.find_elements(\"css selector\", \"div.rate-details__price-wrapper\")\n",
    "\n",
    "    diccionario_hoteles = {\"nombre_hotel\": [],\n",
    "                \"estrellas\": [],\n",
    "                \"precio\": []}\n",
    "    \n",
    "    for hotel in nombre_hotel:\n",
    "        diccionario_hoteles[\"nombre_hotel\"].append(hotel.text.split(\"\\n\")[0])\n",
    "    \n",
    "    for estrella in estrellas_hotel:\n",
    "        diccionario_hoteles[\"estrellas\"].append(estrella.text.split(\"\\n\")[1].strip(\"/\"))\n",
    "    \n",
    "    for precio in precios_hotel:\n",
    "        diccionario_hoteles[\"precio\"].append(precio.text.split(\"\\n\")[1])\n",
    "\n",
    "    hoteles_competencia = pd.DataFrame(diccionario_hoteles)\n",
    "    hoteles_competencia[\"precio\"] = hoteles_competencia[\"precio\"].str.replace(\"€\", \"\").astype(float)\n",
    "    hoteles_competencia[\"estrellas\"] = hoteles_competencia[\"estrellas\"].astype(float)\n",
    "    hoteles_competencia[\"fecha_reserva\"] = pd.to_datetime(\"2025-02-21\")\n",
    "    \n",
    "    hoteles_competencia.to_csv(\"../data/scrapeo_hoteles.csv\", index = False)\n",
    "    driver.close()"
   ]
  },
  {
   "cell_type": "code",
   "execution_count": null,
   "metadata": {},
   "outputs": [
    {
     "data": {
      "text/html": [
       "<div>\n",
       "<style scoped>\n",
       "    .dataframe tbody tr th:only-of-type {\n",
       "        vertical-align: middle;\n",
       "    }\n",
       "\n",
       "    .dataframe tbody tr th {\n",
       "        vertical-align: top;\n",
       "    }\n",
       "\n",
       "    .dataframe thead th {\n",
       "        text-align: right;\n",
       "    }\n",
       "</style>\n",
       "<table border=\"1\" class=\"dataframe\">\n",
       "  <thead>\n",
       "    <tr style=\"text-align: right;\">\n",
       "      <th></th>\n",
       "      <th>nombre_hotel</th>\n",
       "      <th>estrellas</th>\n",
       "      <th>precio</th>\n",
       "      <th>fecha_reserva</th>\n",
       "    </tr>\n",
       "  </thead>\n",
       "  <tbody>\n",
       "    <tr>\n",
       "      <th>0</th>\n",
       "      <td>ibis Madrid Centro las Ventas</td>\n",
       "      <td>4.5</td>\n",
       "      <td>172.0</td>\n",
       "      <td>2025-02-21</td>\n",
       "    </tr>\n",
       "    <tr>\n",
       "      <th>1</th>\n",
       "      <td>ibis budget Madrid Centro las Ventas</td>\n",
       "      <td>4.3</td>\n",
       "      <td>119.0</td>\n",
       "      <td>2025-02-21</td>\n",
       "    </tr>\n",
       "    <tr>\n",
       "      <th>2</th>\n",
       "      <td>ibis Madrid Calle Alcalá</td>\n",
       "      <td>4.5</td>\n",
       "      <td>119.0</td>\n",
       "      <td>2025-02-21</td>\n",
       "    </tr>\n",
       "    <tr>\n",
       "      <th>3</th>\n",
       "      <td>ibis budget Madrid Vallecas</td>\n",
       "      <td>4.3</td>\n",
       "      <td>107.0</td>\n",
       "      <td>2025-02-21</td>\n",
       "    </tr>\n",
       "    <tr>\n",
       "      <th>4</th>\n",
       "      <td>ibis Madrid Aeropuerto Barajas</td>\n",
       "      <td>4.4</td>\n",
       "      <td>116.0</td>\n",
       "      <td>2025-02-21</td>\n",
       "    </tr>\n",
       "    <tr>\n",
       "      <th>5</th>\n",
       "      <td>ibis Madrid Alcorcon Tresaguas</td>\n",
       "      <td>4.4</td>\n",
       "      <td>90.0</td>\n",
       "      <td>2025-02-21</td>\n",
       "    </tr>\n",
       "    <tr>\n",
       "      <th>6</th>\n",
       "      <td>ibis budget Madrid Aeropuerto</td>\n",
       "      <td>4.0</td>\n",
       "      <td>102.0</td>\n",
       "      <td>2025-02-21</td>\n",
       "    </tr>\n",
       "    <tr>\n",
       "      <th>7</th>\n",
       "      <td>ibis Madrid Alcobendas</td>\n",
       "      <td>4.4</td>\n",
       "      <td>83.0</td>\n",
       "      <td>2025-02-21</td>\n",
       "    </tr>\n",
       "    <tr>\n",
       "      <th>8</th>\n",
       "      <td>ibis Madrid Alcala de Henares La Garena</td>\n",
       "      <td>4.5</td>\n",
       "      <td>79.0</td>\n",
       "      <td>2025-02-21</td>\n",
       "    </tr>\n",
       "    <tr>\n",
       "      <th>9</th>\n",
       "      <td>ibis budget Madrid Alcala de Henares La Dehesa</td>\n",
       "      <td>4.3</td>\n",
       "      <td>72.0</td>\n",
       "      <td>2025-02-21</td>\n",
       "    </tr>\n",
       "  </tbody>\n",
       "</table>\n",
       "</div>"
      ],
      "text/plain": [
       "                                     nombre_hotel  estrellas  precio  \\\n",
       "0                   ibis Madrid Centro las Ventas        4.5   172.0   \n",
       "1            ibis budget Madrid Centro las Ventas        4.3   119.0   \n",
       "2                        ibis Madrid Calle Alcalá        4.5   119.0   \n",
       "3                     ibis budget Madrid Vallecas        4.3   107.0   \n",
       "4                  ibis Madrid Aeropuerto Barajas        4.4   116.0   \n",
       "5                  ibis Madrid Alcorcon Tresaguas        4.4    90.0   \n",
       "6                   ibis budget Madrid Aeropuerto        4.0   102.0   \n",
       "7                          ibis Madrid Alcobendas        4.4    83.0   \n",
       "8         ibis Madrid Alcala de Henares La Garena        4.5    79.0   \n",
       "9  ibis budget Madrid Alcala de Henares La Dehesa        4.3    72.0   \n",
       "\n",
       "  fecha_reserva  \n",
       "0    2025-02-21  \n",
       "1    2025-02-21  \n",
       "2    2025-02-21  \n",
       "3    2025-02-21  \n",
       "4    2025-02-21  \n",
       "5    2025-02-21  \n",
       "6    2025-02-21  \n",
       "7    2025-02-21  \n",
       "8    2025-02-21  \n",
       "9    2025-02-21  "
      ]
     },
     "execution_count": 11,
     "metadata": {},
     "output_type": "execute_result"
    }
   ],
   "source": [
    "hoteles_competencia"
   ]
  }
 ],
 "metadata": {
  "kernelspec": {
   "display_name": "env",
   "language": "python",
   "name": "python3"
  },
  "language_info": {
   "codemirror_mode": {
    "name": "ipython",
    "version": 3
   },
   "file_extension": ".py",
   "mimetype": "text/x-python",
   "name": "python",
   "nbconvert_exporter": "python",
   "pygments_lexer": "ipython3",
   "version": "3.11.4"
  }
 },
 "nbformat": 4,
 "nbformat_minor": 2
}
