{
 "cells": [
  {
   "cell_type": "code",
   "execution_count": 24,
   "metadata": {},
   "outputs": [],
   "source": [
    "# Importamos la librerias necesarias de selenium\n",
    "import pandas as pd \n",
    "import numpy as np\n",
    "from bs4 import BeautifulSoup as bs \n",
    "import requests\n",
    "from selenium import webdriver # esto nos permite controlar navegadores web mediante código\n",
    "from webdriver_manager.chrome import ChromeDriverManager # administra la instalación de chromedriver, que es necesario para controlar google chrome\n",
    "from selenium.webdriver.chrome.service import Service # permite gestionar el servicio del driver de chrome\n",
    "import time"
   ]
  },
  {
   "cell_type": "code",
   "execution_count": 25,
   "metadata": {},
   "outputs": [],
   "source": [
    "# Inicializamos el driver de chrome\n",
    "chromeService = Service(ChromeDriverManager().install())\n",
    "driver = webdriver.Chrome(service=chromeService)\n"
   ]
  },
  {
   "cell_type": "code",
   "execution_count": 26,
   "metadata": {},
   "outputs": [
    {
     "data": {
      "text/plain": [
       "'https://all.accor.com/ssr/app/ibis/hotels/madrid-spain/open/index.es.shtml?compositions=1&stayplus=false&snu=false&hideWDR=false&accessibleRooms=false&hideHotelDetails=false&dateIn=2025-03-01&nights=1&destination=madrid-spain'"
      ]
     },
     "execution_count": 26,
     "metadata": {},
     "output_type": "execute_result"
    }
   ],
   "source": [
    "# Creamos la url de la página web que queremos scrapear\n",
    "url =\"https://all.accor.com/ssr/app/ibis/hotels/madrid-spain/open/index.es.shtml?compositions=1&stayplus=false&snu=false&hideWDR=false&accessibleRooms=false&hideHotelDetails=false&dateIn=2025-03-01&nights=1&destination=madrid-spain\"\n",
    "url"
   ]
  },
  {
   "cell_type": "code",
   "execution_count": 30,
   "metadata": {},
   "outputs": [],
   "source": [
    "def scrapeo_competencia(url):\n",
    "    \n",
    "    chromeService = Service(ChromeDriverManager().install())\n",
    "    driver = webdriver.Chrome(service=chromeService)\n",
    "\n",
    "    driver.get(url)\n",
    "\n",
    "    time.sleep(10)\n",
    "\n",
    "    nombre_hotel = driver.find_elements(\"css selector\", \"div.hotelblock__content\")\n",
    "    estrellas_hotel = driver.find_elements(\"css selector\", \"div.hotelblock__content-ratings\")\n",
    "    precios_hotel = driver.find_elements(\"css selector\", \"div.rate-details__price-wrapper\")\n",
    "\n",
    "    diccionario_hoteles = {\"nombre_hotel\": [],\n",
    "                \"estrellas\": [],\n",
    "                \"precio\": []}\n",
    "    \n",
    "    for hotel in nombre_hotel:\n",
    "        diccionario_hoteles[\"nombre_hotel\"].append(hotel.text.split(\"\\n\")[0])\n",
    "    \n",
    "    for estrella in estrellas_hotel:\n",
    "        diccionario_hoteles[\"estrellas\"].append(estrella.text.split(\"\\n\")[1].strip(\"/\"))\n",
    "    \n",
    "    for precio in precios_hotel:\n",
    "        diccionario_hoteles[\"precio\"].append(precio.text.split(\"\\n\")[1])\n",
    "\n",
    "    hoteles_competencia = pd.DataFrame(diccionario_hoteles)\n",
    "    hoteles_competencia[\"precio\"] = hoteles_competencia[\"precio\"].str.replace(\"€\", \"\").astype(float)\n",
    "    hoteles_competencia[\"estrellas\"] = hoteles_competencia[\"estrellas\"].astype(float)\n",
    "    hoteles_competencia[\"fecha_reserva\"] = pd.to_datetime(\"2025-02-21\")\n",
    "    \n",
    "    hoteles_competencia.to_csv(\"../data/scrapeo_hoteles.csv\", index = False)\n",
    "    driver.close()"
   ]
  },
  {
   "cell_type": "code",
   "execution_count": 31,
   "metadata": {},
   "outputs": [],
   "source": [
    "scrapeo_competencia(url)"
   ]
  }
 ],
 "metadata": {
  "kernelspec": {
   "display_name": "env",
   "language": "python",
   "name": "python3"
  },
  "language_info": {
   "codemirror_mode": {
    "name": "ipython",
    "version": 3
   },
   "file_extension": ".py",
   "mimetype": "text/x-python",
   "name": "python",
   "nbconvert_exporter": "python",
   "pygments_lexer": "ipython3",
   "version": "3.11.4"
  }
 },
 "nbformat": 4,
 "nbformat_minor": 2
}
